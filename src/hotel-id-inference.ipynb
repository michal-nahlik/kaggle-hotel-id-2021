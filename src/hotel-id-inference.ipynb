{
 "cells": [
  {
   "cell_type": "markdown",
   "metadata": {
    "id": "DAY5rHgTm7e8",
    "papermill": {
     "duration": 0.023302,
     "end_time": "2021-05-26T20:27:18.303907",
     "exception": false,
     "start_time": "2021-05-26T20:27:18.280605",
     "status": "completed"
    },
    "tags": []
   },
   "source": [
    "# Setup"
   ]
  },
  {
   "cell_type": "code",
   "execution_count": null,
   "metadata": {
    "execution": {
     "iopub.execute_input": "2021-05-26T20:27:18.353791Z",
     "iopub.status.busy": "2021-05-26T20:27:18.352268Z",
     "iopub.status.idle": "2021-05-26T20:27:18.361060Z",
     "shell.execute_reply": "2021-05-26T20:27:18.360463Z",
     "shell.execute_reply.started": "2021-05-26T20:17:47.027711Z"
    },
    "executionInfo": {
     "elapsed": 16271,
     "status": "ok",
     "timestamp": 1619310548121,
     "user": {
      "displayName": "Jeom Jin-Ho",
      "photoUrl": "",
      "userId": "00155613517919499503"
     },
     "user_tz": -120
    },
    "id": "alleged-legislation",
    "outputId": "c6541e5f-ffb4-4609-d6c6-39784e6a07b1",
    "papermill": {
     "duration": 0.034703,
     "end_time": "2021-05-26T20:27:18.361185",
     "exception": false,
     "start_time": "2021-05-26T20:27:18.326482",
     "status": "completed"
    },
    "tags": []
   },
   "outputs": [],
   "source": [
    "import sys\n",
    "sys.path.append('../input/timm-pytorch-image-models/pytorch-image-models-master')"
   ]
  },
  {
   "cell_type": "markdown",
   "metadata": {
    "id": "cZoSOL9Qm-Yr",
    "papermill": {
     "duration": 0.022448,
     "end_time": "2021-05-26T20:27:18.405632",
     "exception": false,
     "start_time": "2021-05-26T20:27:18.383184",
     "status": "completed"
    },
    "tags": []
   },
   "source": [
    "# Imports"
   ]
  },
  {
   "cell_type": "code",
   "execution_count": null,
   "metadata": {
    "_cell_guid": "b1076dfc-b9ad-4769-8c92-a6c4dae69d19",
    "_uuid": "8f2839f25d086af736a60e9eeb907d3b93b6e0e5",
    "execution": {
     "iopub.execute_input": "2021-05-26T20:27:18.454325Z",
     "iopub.status.busy": "2021-05-26T20:27:18.453569Z",
     "iopub.status.idle": "2021-05-26T20:27:18.456413Z",
     "shell.execute_reply": "2021-05-26T20:27:18.455824Z",
     "shell.execute_reply.started": "2021-05-26T20:17:47.042749Z"
    },
    "executionInfo": {
     "elapsed": 14459,
     "status": "ok",
     "timestamp": 1619310548121,
     "user": {
      "displayName": "Jeom Jin-Ho",
      "photoUrl": "",
      "userId": "00155613517919499503"
     },
     "user_tz": -120
    },
    "id": "expired-matter",
    "papermill": {
     "duration": 0.028508,
     "end_time": "2021-05-26T20:27:18.456521",
     "exception": false,
     "start_time": "2021-05-26T20:27:18.428013",
     "status": "completed"
    },
    "tags": []
   },
   "outputs": [],
   "source": [
    "import numpy as np # linear algebra\n",
    "import pandas as pd # data processing, CSV file I/O (e.g. pd.read_csv)\n",
    "import random\n",
    "import os\n",
    "import math"
   ]
  },
  {
   "cell_type": "code",
   "execution_count": null,
   "metadata": {
    "execution": {
     "iopub.execute_input": "2021-05-26T20:27:18.506067Z",
     "iopub.status.busy": "2021-05-26T20:27:18.505549Z",
     "iopub.status.idle": "2021-05-26T20:27:21.861585Z",
     "shell.execute_reply": "2021-05-26T20:27:21.860659Z",
     "shell.execute_reply.started": "2021-05-26T20:17:47.061911Z"
    },
    "executionInfo": {
     "elapsed": 16003,
     "status": "ok",
     "timestamp": 1619310550014,
     "user": {
      "displayName": "Jeom Jin-Ho",
      "photoUrl": "",
      "userId": "00155613517919499503"
     },
     "user_tz": -120
    },
    "id": "extreme-problem",
    "papermill": {
     "duration": 3.382048,
     "end_time": "2021-05-26T20:27:21.861728",
     "exception": false,
     "start_time": "2021-05-26T20:27:18.479680",
     "status": "completed"
    },
    "tags": []
   },
   "outputs": [],
   "source": [
    "from sklearn.metrics import accuracy_score\n",
    "from sklearn.utils import class_weight\n",
    "from PIL import Image as pil_image\n",
    "from tqdm import tqdm\n",
    "import scipy\n",
    "\n",
    "import matplotlib\n",
    "import matplotlib.pyplot as plt\n",
    "import plotly.express as px\n",
    "import plotly.graph_objects as go"
   ]
  },
  {
   "cell_type": "code",
   "execution_count": null,
   "metadata": {
    "execution": {
     "iopub.execute_input": "2021-05-26T20:27:21.911351Z",
     "iopub.status.busy": "2021-05-26T20:27:21.910690Z",
     "iopub.status.idle": "2021-05-26T20:27:24.727144Z",
     "shell.execute_reply": "2021-05-26T20:27:24.727974Z",
     "shell.execute_reply.started": "2021-05-26T20:17:51.149220Z"
    },
    "executionInfo": {
     "elapsed": 19672,
     "status": "ok",
     "timestamp": 1619310554099,
     "user": {
      "displayName": "Jeom Jin-Ho",
      "photoUrl": "",
      "userId": "00155613517919499503"
     },
     "user_tz": -120
    },
    "id": "angry-domain",
    "papermill": {
     "duration": 2.843474,
     "end_time": "2021-05-26T20:27:24.728134",
     "exception": false,
     "start_time": "2021-05-26T20:27:21.884660",
     "status": "completed"
    },
    "tags": []
   },
   "outputs": [],
   "source": [
    "import torch\n",
    "import torch.nn as nn\n",
    "import torch.nn.functional as F\n",
    "from torch.utils.data import DataLoader\n",
    "\n",
    "import timm\n",
    "from timm.optim import Lookahead, RAdam"
   ]
  },
  {
   "cell_type": "markdown",
   "metadata": {
    "id": "0B00pe7mnBTj",
    "papermill": {
     "duration": 0.022047,
     "end_time": "2021-05-26T20:27:24.772727",
     "exception": false,
     "start_time": "2021-05-26T20:27:24.750680",
     "status": "completed"
    },
    "tags": []
   },
   "source": [
    "# Global"
   ]
  },
  {
   "cell_type": "code",
   "execution_count": null,
   "metadata": {
    "execution": {
     "iopub.execute_input": "2021-05-26T20:27:24.820908Z",
     "iopub.status.busy": "2021-05-26T20:27:24.820386Z",
     "iopub.status.idle": "2021-05-26T20:27:24.833045Z",
     "shell.execute_reply": "2021-05-26T20:27:24.832432Z",
     "shell.execute_reply.started": "2021-05-26T20:17:54.164250Z"
    },
    "papermill": {
     "duration": 0.038342,
     "end_time": "2021-05-26T20:27:24.833192",
     "exception": false,
     "start_time": "2021-05-26T20:27:24.794850",
     "status": "completed"
    },
    "tags": []
   },
   "outputs": [],
   "source": [
    "print(os.listdir(\"/kaggle/input/\"))\n",
    "print(os.listdir(\"/kaggle/input/hotelid-trained-models\"))"
   ]
  },
  {
   "cell_type": "code",
   "execution_count": null,
   "metadata": {
    "execution": {
     "iopub.execute_input": "2021-05-26T20:27:24.882642Z",
     "iopub.status.busy": "2021-05-26T20:27:24.882113Z",
     "iopub.status.idle": "2021-05-26T20:27:24.886060Z",
     "shell.execute_reply": "2021-05-26T20:27:24.885593Z",
     "shell.execute_reply.started": "2021-05-26T20:17:54.185756Z"
    },
    "executionInfo": {
     "elapsed": 589,
     "status": "ok",
     "timestamp": 1619310979015,
     "user": {
      "displayName": "Jeom Jin-Ho",
      "photoUrl": "",
      "userId": "00155613517919499503"
     },
     "user_tz": -120
    },
    "id": "contained-brief",
    "papermill": {
     "duration": 0.029506,
     "end_time": "2021-05-26T20:27:24.886192",
     "exception": false,
     "start_time": "2021-05-26T20:27:24.856686",
     "status": "completed"
    },
    "tags": []
   },
   "outputs": [],
   "source": [
    "SEED = 42\n",
    "PROJECT_FOLDER = \"/kaggle/input/hotel-id-2021-fgvc8/\"\n",
    "TRAIN_DATA_FOLDER = \"/kaggle/input/hotelid-images-512x512-padded/\"\n",
    "TEST_DATA_FOLDER = PROJECT_FOLDER + \"test_images/\""
   ]
  },
  {
   "cell_type": "code",
   "execution_count": null,
   "metadata": {
    "execution": {
     "iopub.execute_input": "2021-05-26T20:27:24.935753Z",
     "iopub.status.busy": "2021-05-26T20:27:24.935133Z",
     "iopub.status.idle": "2021-05-26T20:27:24.938540Z",
     "shell.execute_reply": "2021-05-26T20:27:24.939119Z",
     "shell.execute_reply.started": "2021-05-26T20:17:54.194571Z"
    },
    "executionInfo": {
     "elapsed": 879,
     "status": "ok",
     "timestamp": 1619310979515,
     "user": {
      "displayName": "Jeom Jin-Ho",
      "photoUrl": "",
      "userId": "00155613517919499503"
     },
     "user_tz": -120
    },
    "id": "PZvmFng7ctO3",
    "outputId": "dce0cc91-8e70-4acc-a0b8-6763ffffd5ca",
    "papermill": {
     "duration": 0.030709,
     "end_time": "2021-05-26T20:27:24.939276",
     "exception": false,
     "start_time": "2021-05-26T20:27:24.908567",
     "status": "completed"
    },
    "tags": []
   },
   "outputs": [],
   "source": [
    "print(os.listdir(PROJECT_FOLDER))"
   ]
  },
  {
   "cell_type": "markdown",
   "metadata": {
    "id": "9p7EE95ZnNpK",
    "papermill": {
     "duration": 0.023074,
     "end_time": "2021-05-26T20:27:24.986711",
     "exception": false,
     "start_time": "2021-05-26T20:27:24.963637",
     "status": "completed"
    },
    "tags": []
   },
   "source": [
    "# Helper functions - seed and metric calculator"
   ]
  },
  {
   "cell_type": "code",
   "execution_count": null,
   "metadata": {
    "execution": {
     "iopub.execute_input": "2021-05-26T20:27:25.036905Z",
     "iopub.status.busy": "2021-05-26T20:27:25.036222Z",
     "iopub.status.idle": "2021-05-26T20:27:25.039572Z",
     "shell.execute_reply": "2021-05-26T20:27:25.039168Z",
     "shell.execute_reply.started": "2021-05-26T20:17:54.212430Z"
    },
    "executionInfo": {
     "elapsed": 600,
     "status": "ok",
     "timestamp": 1619310981653,
     "user": {
      "displayName": "Jeom Jin-Ho",
      "photoUrl": "",
      "userId": "00155613517919499503"
     },
     "user_tz": -120
    },
    "id": "eastern-content",
    "papermill": {
     "duration": 0.030273,
     "end_time": "2021-05-26T20:27:25.039688",
     "exception": false,
     "start_time": "2021-05-26T20:27:25.009415",
     "status": "completed"
    },
    "tags": []
   },
   "outputs": [],
   "source": [
    "def seed_everything(seed):\n",
    "    random.seed(seed)\n",
    "    os.environ['PYTHONHASHSEED'] = str(seed)\n",
    "    np.random.seed(seed)\n",
    "    torch.manual_seed(seed)\n",
    "    torch.cuda.manual_seed(seed)\n",
    "    torch.backends.cudnn.deterministic = True"
   ]
  },
  {
   "cell_type": "markdown",
   "metadata": {
    "id": "xaJKvvuKnW4k",
    "papermill": {
     "duration": 0.022677,
     "end_time": "2021-05-26T20:27:25.084766",
     "exception": false,
     "start_time": "2021-05-26T20:27:25.062089",
     "status": "completed"
    },
    "tags": []
   },
   "source": [
    "# Dataset and transformations"
   ]
  },
  {
   "cell_type": "code",
   "execution_count": null,
   "metadata": {
    "execution": {
     "iopub.execute_input": "2021-05-26T20:27:25.138909Z",
     "iopub.status.busy": "2021-05-26T20:27:25.138303Z",
     "iopub.status.idle": "2021-05-26T20:27:25.996333Z",
     "shell.execute_reply": "2021-05-26T20:27:25.995847Z",
     "shell.execute_reply.started": "2021-05-26T20:17:54.225008Z"
    },
    "executionInfo": {
     "elapsed": 1519,
     "status": "ok",
     "timestamp": 1619310984075,
     "user": {
      "displayName": "Jeom Jin-Ho",
      "photoUrl": "",
      "userId": "00155613517919499503"
     },
     "user_tz": -120
    },
    "id": "revolutionary-membership",
    "papermill": {
     "duration": 0.887575,
     "end_time": "2021-05-26T20:27:25.996509",
     "exception": false,
     "start_time": "2021-05-26T20:27:25.108934",
     "status": "completed"
    },
    "tags": []
   },
   "outputs": [],
   "source": [
    "import albumentations as A\n",
    "import albumentations.pytorch as APT\n",
    "import cv2 \n",
    "\n",
    "IMG_SIZE = 512\n",
    "\n",
    "base_transform = A.Compose([\n",
    "    A.ToFloat(),\n",
    "    APT.transforms.ToTensor(),\n",
    "])\n",
    "\n",
    "\n",
    "test_tta_transforms = {\n",
    "    \"base\": A.Compose([A.ToFloat(), APT.transforms.ToTensor(),]),\n",
    "    \"h_flip\": A.Compose([A.ToFloat(), A.HorizontalFlip(p=1), APT.transforms.ToTensor(),]),\n",
    "    \"v_flip\": A.Compose([A.ToFloat(), A.VerticalFlip(p=1), APT.transforms.ToTensor(),]),\n",
    "    \"rotate+90\": A.Compose([A.ToFloat(), A.Rotate(limit=90, p=1), APT.transforms.ToTensor(),]),\n",
    "    \"rotate-90\": A.Compose([A.ToFloat(), A.Rotate(limit=-90, p=1), APT.transforms.ToTensor(),]),\n",
    "#     \"rand_bright\": A.Compose([A.ToFloat(), A.RandomBrightness(p=1), APT.transforms.ToTensor(),]),\n",
    "}"
   ]
  },
  {
   "cell_type": "code",
   "execution_count": null,
   "metadata": {
    "execution": {
     "iopub.execute_input": "2021-05-26T20:27:26.052283Z",
     "iopub.status.busy": "2021-05-26T20:27:26.051699Z",
     "iopub.status.idle": "2021-05-26T20:27:26.054688Z",
     "shell.execute_reply": "2021-05-26T20:27:26.054266Z",
     "shell.execute_reply.started": "2021-05-26T20:17:55.185568Z"
    },
    "executionInfo": {
     "elapsed": 1058,
     "status": "ok",
     "timestamp": 1619310984077,
     "user": {
      "displayName": "Jeom Jin-Ho",
      "photoUrl": "",
      "userId": "00155613517919499503"
     },
     "user_tz": -120
    },
    "id": "found-mouth",
    "papermill": {
     "duration": 0.035126,
     "end_time": "2021-05-26T20:27:26.054791",
     "exception": false,
     "start_time": "2021-05-26T20:27:26.019665",
     "status": "completed"
    },
    "tags": []
   },
   "outputs": [],
   "source": [
    "def pad_image(img):\n",
    "    w, h, c = np.shape(img)\n",
    "    if w > h:\n",
    "        pad = int((w - h) / 2)\n",
    "        img = cv2.copyMakeBorder(img, 0, 0, pad, pad, cv2.BORDER_CONSTANT, value=0)\n",
    "    else:\n",
    "        pad = int((h - w) / 2)\n",
    "        img = cv2.copyMakeBorder(img, pad, pad, 0, 0, cv2.BORDER_CONSTANT, value=0)\n",
    "        \n",
    "    return img\n",
    "\n",
    "\n",
    "def open_and_preprocess_image(image_path):\n",
    "    img = cv2.imread(image_path)\n",
    "    img = cv2.cvtColor(img, cv2.COLOR_BGR2RGB)\n",
    "    img = pad_image(img)\n",
    "    return cv2.resize(img, (IMG_SIZE, IMG_SIZE))\n",
    "\n",
    "\n",
    "class HotelImageDataset:\n",
    "    def __init__(self, data, transform=None, data_folder=\"train_images/\"):\n",
    "        self.data = data\n",
    "        self.data_folder = data_folder\n",
    "        self.transform = transform\n",
    "\n",
    "    def __len__(self):\n",
    "        return len(self.data)\n",
    "    \n",
    "    def __getitem__(self, idx):\n",
    "        record = self.data.iloc[idx]\n",
    "        image_path = self.data_folder + record[\"image\"]\n",
    "        \n",
    "        if \"test\" in self.data_folder:\n",
    "            image = np.array(open_and_preprocess_image(image_path)).astype(np.uint8)\n",
    "        else:\n",
    "            image = np.array(pil_image.open(image_path)).astype(np.uint8)\n",
    "\n",
    "        if self.transform:\n",
    "            transformed = self.transform(image=image)\n",
    "        \n",
    "        return {\n",
    "            \"image\" : transformed[\"image\"],\n",
    "        }"
   ]
  },
  {
   "cell_type": "markdown",
   "metadata": {
    "id": "NMDM4PwPnced",
    "papermill": {
     "duration": 0.022524,
     "end_time": "2021-05-26T20:27:26.100477",
     "exception": false,
     "start_time": "2021-05-26T20:27:26.077953",
     "status": "completed"
    },
    "tags": []
   },
   "source": [
    "# Model"
   ]
  },
  {
   "cell_type": "code",
   "execution_count": null,
   "metadata": {
    "execution": {
     "iopub.execute_input": "2021-05-26T20:27:26.164358Z",
     "iopub.status.busy": "2021-05-26T20:27:26.159496Z",
     "iopub.status.idle": "2021-05-26T20:27:26.166956Z",
     "shell.execute_reply": "2021-05-26T20:27:26.166473Z",
     "shell.execute_reply.started": "2021-05-26T20:17:55.200538Z"
    },
    "executionInfo": {
     "elapsed": 578,
     "status": "ok",
     "timestamp": 1619310987166,
     "user": {
      "displayName": "Jeom Jin-Ho",
      "photoUrl": "",
      "userId": "00155613517919499503"
     },
     "user_tz": -120
    },
    "id": "GuAfw_a4m3PK",
    "papermill": {
     "duration": 0.043843,
     "end_time": "2021-05-26T20:27:26.167057",
     "exception": false,
     "start_time": "2021-05-26T20:27:26.123214",
     "status": "completed"
    },
    "tags": []
   },
   "outputs": [],
   "source": [
    "# source: https://github.com/ronghuaiyang/arcface-pytorch/blob/master/models/metrics.py\n",
    "class ArcMarginProduct(nn.Module):\n",
    "    r\"\"\"Implement of large margin arc distance: :\n",
    "        Args:\n",
    "            in_features: size of each input sample\n",
    "            out_features: size of each output sample\n",
    "            s: norm of input feature\n",
    "            m: margin\n",
    "            cos(theta + m)\n",
    "        \"\"\"\n",
    "    def __init__(self, in_features, out_features, s=30.0, m=0.50, easy_margin=False):\n",
    "        super(ArcMarginProduct, self).__init__()\n",
    "        self.in_features = in_features\n",
    "        self.out_features = out_features\n",
    "        self.s = s\n",
    "        self.m = m\n",
    "        self.weight = nn.Parameter(torch.FloatTensor(out_features, in_features))\n",
    "        nn.init.xavier_uniform_(self.weight)\n",
    "\n",
    "        self.easy_margin = easy_margin\n",
    "        self.cos_m = math.cos(m)\n",
    "        self.sin_m = math.sin(m)\n",
    "        self.th = math.cos(math.pi - m)\n",
    "        self.mm = math.sin(math.pi - m) * m\n",
    "\n",
    "    def forward(self, input, label):\n",
    "        # --------------------------- cos(theta) & phi(theta) ---------------------------\n",
    "        cosine = F.linear(F.normalize(input), F.normalize(self.weight))\n",
    "        sine = torch.sqrt((1.0 - torch.pow(cosine, 2)).clamp(0, 1))\n",
    "        phi = cosine * self.cos_m - sine * self.sin_m\n",
    "        if self.easy_margin:\n",
    "            phi = torch.where(cosine > 0, phi, cosine)\n",
    "        else:\n",
    "            phi = torch.where(cosine > self.th, phi, cosine - self.mm)\n",
    "        # --------------------------- convert label to one-hot ---------------------------\n",
    "        # one_hot = torch.zeros(cosine.size(), requires_grad=True, device='cuda')\n",
    "        one_hot = torch.zeros(cosine.size(), device='cuda')\n",
    "        one_hot.scatter_(1, label.view(-1, 1).long(), 1)\n",
    "        # -------------torch.where(out_i = {x_i if condition_i else y_i) -------------\n",
    "        output = (one_hot * phi) + ((1.0 - one_hot) * cosine)  # you can use torch.where if your torch.__version__ is 0.4\n",
    "        output *= self.s\n",
    "\n",
    "        return output\n",
    "\n",
    "class HotelIdModel(nn.Module):\n",
    "    def __init__(self, out_features, embed_size=256, backbone_name=\"efficientnet_b3\"):\n",
    "        super(HotelIdModel, self).__init__()\n",
    "\n",
    "        self.embed_size = embed_size\n",
    "        self.backbone = timm.create_model(backbone_name, pretrained=False)\n",
    "        in_features = self.backbone.get_classifier().in_features\n",
    "\n",
    "        fc_name, _ = list(self.backbone.named_modules())[-1]\n",
    "        if fc_name == 'classifier':\n",
    "            self.backbone.classifier = nn.Identity()\n",
    "        elif fc_name == 'head.fc':\n",
    "            self.backbone.head.fc = nn.Identity()\n",
    "        elif fc_name == 'fc':\n",
    "            self.backbone.fc = nn.Identity()\n",
    "        else:\n",
    "            raise Exception(\"unknown classifier layer: \" + fc_name)\n",
    "\n",
    "        self.arc_face = ArcMarginProduct(self.embed_size, out_features, s=30.0, m=0.50, easy_margin=False)\n",
    "\n",
    "        self.post = nn.Sequential(\n",
    "            nn.utils.weight_norm(nn.Linear(in_features, self.embed_size*2), dim=None),\n",
    "            nn.BatchNorm1d(self.embed_size*2),\n",
    "            nn.Dropout(0.2),\n",
    "            nn.utils.weight_norm(nn.Linear(self.embed_size*2, self.embed_size)),\n",
    "            nn.BatchNorm1d(self.embed_size),\n",
    "        )\n",
    "\n",
    "        print(f\"Model {backbone_name} ArcMarginProduct - Features: {in_features}, Embeds: {self.embed_size}\")\n",
    "        \n",
    "    def forward(self, input, targets = None):\n",
    "        x = self.backbone(input)\n",
    "        x = x.view(x.size(0), -1)\n",
    "        x = self.post(x)\n",
    "        \n",
    "        if targets is not None:\n",
    "            logits = self.arc_face(x, targets)\n",
    "            return logits\n",
    "        \n",
    "        return x"
   ]
  },
  {
   "cell_type": "code",
   "execution_count": null,
   "metadata": {
    "execution": {
     "iopub.execute_input": "2021-05-26T20:27:26.223640Z",
     "iopub.status.busy": "2021-05-26T20:27:26.223009Z",
     "iopub.status.idle": "2021-05-26T20:27:26.226722Z",
     "shell.execute_reply": "2021-05-26T20:27:26.226310Z",
     "shell.execute_reply.started": "2021-05-26T20:17:55.229643Z"
    },
    "papermill": {
     "duration": 0.036253,
     "end_time": "2021-05-26T20:27:26.226858",
     "exception": false,
     "start_time": "2021-05-26T20:27:26.190605",
     "status": "completed"
    },
    "tags": []
   },
   "outputs": [],
   "source": [
    "class EmbeddingNet(nn.Module):\n",
    "    def __init__(self, n_classes=100, embed_size=64, backbone_name=\"efficientnet_b0\"):\n",
    "        super(EmbeddingNet, self).__init__()\n",
    "        \n",
    "        self.embed_size = embed_size\n",
    "        self.backbone = timm.create_model(backbone_name, pretrained=False)\n",
    "        in_features = self.backbone.get_classifier().in_features\n",
    "\n",
    "        fc_name, _ = list(self.backbone.named_modules())[-1]\n",
    "        if fc_name == 'classifier':\n",
    "            self.backbone.classifier = nn.Identity()\n",
    "        elif fc_name == 'head.fc':\n",
    "            self.backbone.head.fc = nn.Identity()\n",
    "        elif fc_name == 'fc':\n",
    "            self.backbone.fc = nn.Identity()\n",
    "        else:\n",
    "            raise Exception(\"unknown classifier layer: \" + fc_name)\n",
    "        \n",
    "        self.post = nn.Sequential(\n",
    "            nn.utils.weight_norm(nn.Linear(in_features, self.embed_size*2), dim=None),\n",
    "            nn.BatchNorm1d(self.embed_size*2),\n",
    "            nn.Dropout(0.2),\n",
    "            nn.utils.weight_norm(nn.Linear(self.embed_size*2, self.embed_size)),\n",
    "        )\n",
    "\n",
    "        self.classifier = nn.Sequential(\n",
    "            nn.BatchNorm1d(self.embed_size),\n",
    "            nn.Dropout(0.2),\n",
    "            nn.Linear(self.embed_size, n_classes),\n",
    "        )\n",
    "        \n",
    "        print(f\"Model {backbone_name} EmbeddingNet - Features: {in_features}, Embeds: {self.embed_size}\")\n",
    "        \n",
    "    def embed_and_classify(self, x):\n",
    "        x = self.forward(x)\n",
    "        return x, self.classifier(x)\n",
    "\n",
    "    def forward(self, x):\n",
    "        x = self.backbone(x)\n",
    "        x = x.view(x.size(0), -1)\n",
    "        x = self.post(x)\n",
    "        return x"
   ]
  },
  {
   "cell_type": "markdown",
   "metadata": {
    "id": "YMZYKhUSneMY",
    "papermill": {
     "duration": 0.022705,
     "end_time": "2021-05-26T20:27:26.272269",
     "exception": false,
     "start_time": "2021-05-26T20:27:26.249564",
     "status": "completed"
    },
    "tags": []
   },
   "source": [
    "# Model helper functions"
   ]
  },
  {
   "cell_type": "code",
   "execution_count": null,
   "metadata": {
    "execution": {
     "iopub.execute_input": "2021-05-26T20:27:26.323621Z",
     "iopub.status.busy": "2021-05-26T20:27:26.322969Z",
     "iopub.status.idle": "2021-05-26T20:27:26.326680Z",
     "shell.execute_reply": "2021-05-26T20:27:26.326276Z",
     "shell.execute_reply.started": "2021-05-26T20:17:55.248984Z"
    },
    "papermill": {
     "duration": 0.03194,
     "end_time": "2021-05-26T20:27:26.326785",
     "exception": false,
     "start_time": "2021-05-26T20:27:26.294845",
     "status": "completed"
    },
    "tags": []
   },
   "outputs": [],
   "source": [
    "from sklearn.metrics.pairwise import cosine_similarity\n",
    "\n",
    "def get_embeds(loader, model, bar_desc=\"Generating embeds\"):\n",
    "    outputs_all = []\n",
    "    \n",
    "    model.eval()\n",
    "    with torch.no_grad():\n",
    "        t = tqdm(loader, desc=bar_desc)\n",
    "        for i, sample in enumerate(t):\n",
    "            input = sample['image'].to(args.device)\n",
    "            output = model(input)\n",
    "            outputs_all.extend(output.detach().cpu().numpy())\n",
    "#             outputs_all.extend(output.detach().cpu().numpy().astype(np.float16))\n",
    "            \n",
    "            \n",
    "    return outputs_all"
   ]
  },
  {
   "cell_type": "code",
   "execution_count": null,
   "metadata": {
    "execution": {
     "iopub.execute_input": "2021-05-26T20:27:26.375195Z",
     "iopub.status.busy": "2021-05-26T20:27:26.374703Z",
     "iopub.status.idle": "2021-05-26T20:27:26.378611Z",
     "shell.execute_reply": "2021-05-26T20:27:26.378104Z",
     "shell.execute_reply.started": "2021-05-26T20:17:55.265348Z"
    },
    "executionInfo": {
     "elapsed": 452,
     "status": "ok",
     "timestamp": 1619310991310,
     "user": {
      "displayName": "Jeom Jin-Ho",
      "photoUrl": "",
      "userId": "00155613517919499503"
     },
     "user_tz": -120
    },
    "id": "massive-makeup",
    "papermill": {
     "duration": 0.029437,
     "end_time": "2021-05-26T20:27:26.378710",
     "exception": false,
     "start_time": "2021-05-26T20:27:26.349273",
     "status": "completed"
    },
    "tags": []
   },
   "outputs": [],
   "source": [
    "# def predict(loader, base_df, base_embeds, model, n_matches=5, bar_desc=\"Generating embeds\"):\n",
    "#     preds = []\n",
    "#     model.eval()\n",
    "#     with torch.no_grad():\n",
    "#         t = tqdm(loader, desc=bar_desc)\n",
    "#         for i, sample in enumerate(t):\n",
    "#             input = sample['image'].to(args.device)\n",
    "#             output = model(input)\n",
    "#             distances = cosine_similarity(output.detach().cpu().numpy(), base_embeds)\n",
    "            \n",
    "#             for j in range(0, output.shape[0]):\n",
    "#                 tmp_df = base_df.copy()\n",
    "#                 tmp_df[\"distance\"] = distances[j]\n",
    "#                 tmp_df = tmp_df.sort_values(by=[\"distance\", \"hotel_id\"], ascending=False).reset_index(drop=True)\n",
    "#                 preds.extend([tmp_df[\"hotel_id\"].unique()[:n_matches]])\n",
    "\n",
    "#     return preds\n",
    "\n",
    "# def find_closest_match_tta(args, test_df, tta_transforms, base_loader, model, n_matches=5):\n",
    "#     base_embeds = get_embeds(base_loader, model, \"Generating embeds for train\")\n",
    "\n",
    "#     test_dataset = HotelImageDataset(test_df, tta_transforms[\"base\"], data_folder=TEST_DATA_FOLDER)\n",
    "#     test_loader = DataLoader(test_dataset, num_workers=args.num_workers, batch_size=args.batch_size, shuffle=False)\n",
    "#     preds = predict(test_loader, base_loader.dataset.data, base_embeds, model, n_matches, f\"Generating predictions\")\n",
    "        \n",
    "#     return preds"
   ]
  },
  {
   "cell_type": "code",
   "execution_count": null,
   "metadata": {
    "execution": {
     "iopub.execute_input": "2021-05-26T20:27:26.433648Z",
     "iopub.status.busy": "2021-05-26T20:27:26.432990Z",
     "iopub.status.idle": "2021-05-26T20:27:26.435668Z",
     "shell.execute_reply": "2021-05-26T20:27:26.435156Z",
     "shell.execute_reply.started": "2021-05-26T20:17:55.278733Z"
    },
    "papermill": {
     "duration": 0.03471,
     "end_time": "2021-05-26T20:27:26.435770",
     "exception": false,
     "start_time": "2021-05-26T20:27:26.401060",
     "status": "completed"
    },
    "tags": []
   },
   "outputs": [],
   "source": [
    "def get_distances(input, base_embeds, model_array):\n",
    "    distances = None\n",
    "    for i, model in enumerate(model_array):\n",
    "        output = model(input)\n",
    "        output = output.detach().cpu().numpy()\n",
    "#         output = output.detach().cpu().numpy().astype(np.float16)\n",
    "        model_base_embeds = base_embeds[i]\n",
    "        output_distances = cosine_similarity(output, model_base_embeds)\n",
    "        \n",
    "        if distances is None:\n",
    "            distances = output_distances\n",
    "        else:\n",
    "            distances = distances * output_distances\n",
    "            \n",
    "    return distances\n",
    "    \n",
    "\n",
    "def predict(loader, base_df, base_embeds, model_array, n_matches=5, bar_desc=\"Generating embeds\"):\n",
    "    preds = []\n",
    "    with torch.no_grad():\n",
    "        t = tqdm(loader, desc=bar_desc)\n",
    "        for i, sample in enumerate(t):\n",
    "            input = sample['image'].to(args.device)\n",
    "            distances = get_distances(input, base_embeds, model_array)\n",
    "            \n",
    "            for j in range(len(distances)):\n",
    "                tmp_df = base_df.copy()\n",
    "                tmp_df[\"distance\"] = distances[j]\n",
    "                tmp_df = tmp_df.sort_values(by=[\"distance\", \"hotel_id\"], ascending=False).reset_index(drop=True)\n",
    "                preds.extend([tmp_df[\"hotel_id\"].unique()[:n_matches]])\n",
    "\n",
    "    return preds\n",
    "\n",
    "def find_closest_match(args, test_loader, base_loader, model_array, n_matches=5):\n",
    "    base_embeds = {}\n",
    "    for i, model in enumerate(model_array):\n",
    "        base_embeds[i] = get_embeds(base_loader, model, \"Generating embeds for train\")\n",
    "    \n",
    "    preds = predict(test_loader, base_loader.dataset.data, base_embeds, model_array, n_matches, f\"Generating predictions\")\n",
    "        \n",
    "    return preds"
   ]
  },
  {
   "cell_type": "markdown",
   "metadata": {
    "id": "AwShW1wXniD6",
    "papermill": {
     "duration": 0.022901,
     "end_time": "2021-05-26T20:27:26.481350",
     "exception": false,
     "start_time": "2021-05-26T20:27:26.458449",
     "status": "completed"
    },
    "tags": []
   },
   "source": [
    "# Prepare data"
   ]
  },
  {
   "cell_type": "markdown",
   "metadata": {
    "papermill": {
     "duration": 0.022327,
     "end_time": "2021-05-26T20:27:26.526212",
     "exception": false,
     "start_time": "2021-05-26T20:27:26.503885",
     "status": "completed"
    },
    "tags": []
   },
   "source": [
    "### for validation"
   ]
  },
  {
   "cell_type": "code",
   "execution_count": null,
   "metadata": {
    "execution": {
     "iopub.execute_input": "2021-05-26T20:27:26.574902Z",
     "iopub.status.busy": "2021-05-26T20:27:26.574152Z",
     "iopub.status.idle": "2021-05-26T20:27:26.576396Z",
     "shell.execute_reply": "2021-05-26T20:27:26.576787Z",
     "shell.execute_reply.started": "2021-05-26T20:17:55.295904Z"
    },
    "papermill": {
     "duration": 0.028136,
     "end_time": "2021-05-26T20:27:26.576900",
     "exception": false,
     "start_time": "2021-05-26T20:27:26.548764",
     "status": "completed"
    },
    "tags": []
   },
   "outputs": [],
   "source": [
    "# data_df = pd.read_csv(PROJECT_FOLDER + \"train.csv\", parse_dates=[\"timestamp\"])\n",
    "# data_df = data_df[data_df[\"hotel_id\"].isin(data_df[\"hotel_id\"].unique()[-500:])]\n",
    "# test_df = data_df.groupby(\"hotel_id\").sample(1, random_state=SEED)\n",
    "# data_df = data_df[~data_df[\"image\"].isin(test_df[\"image\"])]\n",
    "\n",
    "# TEST_DATA_FOLDER = TRAIN_DATA_FOLDER\n",
    "\n",
    "# print(f\"Base: {len(data_df)}, test: {len(test_df)}\")"
   ]
  },
  {
   "cell_type": "markdown",
   "metadata": {
    "papermill": {
     "duration": 0.022585,
     "end_time": "2021-05-26T20:27:26.622107",
     "exception": false,
     "start_time": "2021-05-26T20:27:26.599522",
     "status": "completed"
    },
    "tags": []
   },
   "source": [
    "### for submission"
   ]
  },
  {
   "cell_type": "code",
   "execution_count": null,
   "metadata": {
    "execution": {
     "iopub.execute_input": "2021-05-26T20:27:26.672524Z",
     "iopub.status.busy": "2021-05-26T20:27:26.671999Z",
     "iopub.status.idle": "2021-05-26T20:27:26.909237Z",
     "shell.execute_reply": "2021-05-26T20:27:26.908751Z",
     "shell.execute_reply.started": "2021-05-26T20:17:56.062863Z"
    },
    "executionInfo": {
     "elapsed": 3742,
     "status": "ok",
     "timestamp": 1619311036476,
     "user": {
      "displayName": "Jeom Jin-Ho",
      "photoUrl": "",
      "userId": "00155613517919499503"
     },
     "user_tz": -120
    },
    "id": "discrete-right",
    "outputId": "c21ed589-3139-4919-b5d5-07bcf6f1df15",
    "papermill": {
     "duration": 0.264905,
     "end_time": "2021-05-26T20:27:26.909490",
     "exception": false,
     "start_time": "2021-05-26T20:27:26.644585",
     "status": "completed"
    },
    "tags": []
   },
   "outputs": [],
   "source": [
    "data_df = pd.read_csv(PROJECT_FOLDER + \"train.csv\", parse_dates=[\"timestamp\"])\n",
    "sample_submission_df = pd.read_csv(PROJECT_FOLDER + \"sample_submission.csv\")\n",
    "test_df = pd.DataFrame(data={\"image\": os.listdir(TEST_DATA_FOLDER), \"hotel_id\": \"\"}).sort_values(by=\"image\")"
   ]
  },
  {
   "cell_type": "markdown",
   "metadata": {
    "id": "5JPdD2bpnniP",
    "papermill": {
     "duration": 0.02292,
     "end_time": "2021-05-26T20:27:26.956966",
     "exception": false,
     "start_time": "2021-05-26T20:27:26.934046",
     "status": "completed"
    },
    "tags": []
   },
   "source": [
    "# Train and evaluate"
   ]
  },
  {
   "cell_type": "code",
   "execution_count": null,
   "metadata": {
    "execution": {
     "iopub.execute_input": "2021-05-26T20:27:27.007527Z",
     "iopub.status.busy": "2021-05-26T20:27:27.006977Z",
     "iopub.status.idle": "2021-05-26T20:27:27.010450Z",
     "shell.execute_reply": "2021-05-26T20:27:27.010900Z",
     "shell.execute_reply.started": "2021-05-26T20:17:56.069964Z"
    },
    "papermill": {
     "duration": 0.031189,
     "end_time": "2021-05-26T20:27:27.011034",
     "exception": false,
     "start_time": "2021-05-26T20:27:26.979845",
     "status": "completed"
    },
    "tags": []
   },
   "outputs": [],
   "source": [
    "def get_model(model_type, backbone_name, embed_size, checkpoint_path, args):\n",
    "    if model_type == 'arcmargin':\n",
    "        model = HotelIdModel(7770, embed_size, backbone_name)\n",
    "    else:\n",
    "        model = EmbeddingNet(7770, embed_size, backbone_name)\n",
    "        \n",
    "    checkpoint = torch.load(checkpoint_path)\n",
    "    model.load_state_dict(checkpoint[\"model\"])\n",
    "    model = model.to(args.device)\n",
    "    \n",
    "    return model"
   ]
  },
  {
   "cell_type": "code",
   "execution_count": null,
   "metadata": {
    "execution": {
     "iopub.execute_input": "2021-05-26T20:27:27.063216Z",
     "iopub.status.busy": "2021-05-26T20:27:27.062477Z",
     "iopub.status.idle": "2021-05-26T20:27:27.143999Z",
     "shell.execute_reply": "2021-05-26T20:27:27.142996Z",
     "shell.execute_reply.started": "2021-05-26T20:17:56.089189Z"
    },
    "executionInfo": {
     "elapsed": 450,
     "status": "ok",
     "timestamp": 1619311064188,
     "user": {
      "displayName": "Jeom Jin-Ho",
      "photoUrl": "",
      "userId": "00155613517919499503"
     },
     "user_tz": -120
    },
    "id": "appointed-machinery",
    "papermill": {
     "duration": 0.110673,
     "end_time": "2021-05-26T20:27:27.144125",
     "exception": false,
     "start_time": "2021-05-26T20:27:27.033452",
     "status": "completed"
    },
    "tags": []
   },
   "outputs": [],
   "source": [
    "class args:\n",
    "    batch_size = 32\n",
    "    num_workers = 4\n",
    "    n_classes = data_df[\"hotel_id\"].nunique()\n",
    "    device = ('cuda' if torch.cuda.is_available() else 'cpu')\n",
    "    \n",
    "    \n",
    "seed_everything(seed=SEED)\n",
    "\n",
    "base_dataset = HotelImageDataset(data_df, base_transform, data_folder=TRAIN_DATA_FOLDER)\n",
    "base_loader = DataLoader(base_dataset, num_workers=args.num_workers, batch_size=args.batch_size, shuffle=False)\n",
    "\n",
    "test_dataset = HotelImageDataset(test_df, test_tta_transforms[\"base\"], data_folder=TEST_DATA_FOLDER)\n",
    "test_loader = DataLoader(test_dataset, num_workers=args.num_workers, batch_size=args.batch_size, shuffle=False)"
   ]
  },
  {
   "cell_type": "code",
   "execution_count": null,
   "metadata": {
    "execution": {
     "iopub.execute_input": "2021-05-26T20:27:27.196023Z",
     "iopub.status.busy": "2021-05-26T20:27:27.195528Z",
     "iopub.status.idle": "2021-05-26T20:28:36.774928Z",
     "shell.execute_reply": "2021-05-26T20:28:36.774026Z",
     "shell.execute_reply.started": "2021-05-26T20:17:56.162353Z"
    },
    "papermill": {
     "duration": 69.607854,
     "end_time": "2021-05-26T20:28:36.775068",
     "exception": false,
     "start_time": "2021-05-26T20:27:27.167214",
     "status": "completed"
    },
    "tags": []
   },
   "outputs": [],
   "source": [
    "model_array = [get_model(\"arcmargin\", \n",
    "                         \"efficientnet_b1\", 4096,\n",
    "                         \"../input/hotelid-trained-models/checkpoint-arcmargin-model-efficientnet_b1-512x512-4096embeds-7770hotels.pt\", \n",
    "                         args),\n",
    "               \n",
    "               get_model(\"cosface\", \n",
    "                         \"ecaresnet50d_pruned\", 4096,\n",
    "                         \"../input/hotelid-trained-models/checkpoint-cosface-model-ecaresnet50d_pruned-512x512-4096embeds-7770hotels.pt\", \n",
    "                         args),\n",
    "               \n",
    "               get_model(\"classification\", \n",
    "                         \"eca_nfnet_l0\", 4096,\n",
    "                         \"../input/hotelid-trained-models/checkpoint-classification-model-eca_nfnet_l0-512x512-4096embeds-7770hotels.pt\", \n",
    "                         args),\n",
    "               \n",
    "               get_model(\"arcmargin\", \n",
    "                         \"eca_nfnet_l0\", 1024,\n",
    "                         \"../input/hotelid-trained-models/checkpoint-arcmargin-model-eca_nfnet_l0-512x512-1024embeds-7770hotels.pt\", \n",
    "                         args),\n",
    "              ]"
   ]
  },
  {
   "cell_type": "markdown",
   "metadata": {
    "papermill": {
     "duration": 0.023154,
     "end_time": "2021-05-26T20:28:36.822283",
     "exception": false,
     "start_time": "2021-05-26T20:28:36.799129",
     "status": "completed"
    },
    "tags": []
   },
   "source": [
    "### submission"
   ]
  },
  {
   "cell_type": "code",
   "execution_count": null,
   "metadata": {
    "execution": {
     "iopub.execute_input": "2021-05-26T20:28:36.875015Z",
     "iopub.status.busy": "2021-05-26T20:28:36.874216Z",
     "iopub.status.idle": "2021-05-26T20:28:36.895621Z",
     "shell.execute_reply": "2021-05-26T20:28:36.895991Z",
     "shell.execute_reply.started": "2021-05-26T20:19:19.227781Z"
    },
    "papermill": {
     "duration": 0.050129,
     "end_time": "2021-05-26T20:28:36.896132",
     "exception": false,
     "start_time": "2021-05-26T20:28:36.846003",
     "status": "completed"
    },
    "tags": []
   },
   "outputs": [],
   "source": [
    "%%time\n",
    "\n",
    "if len(test_df) > 3:\n",
    "    preds = find_closest_match(args, test_loader, base_loader, model_array, n_matches=5)\n",
    "    test_df[\"hotel_id\"] = [str(list(l)).strip(\"[]\").replace(\",\", \"\") for l in preds]\n",
    "\n",
    "test_df.to_csv(\"submission.csv\", index=False)\n",
    "test_df.head()"
   ]
  },
  {
   "cell_type": "markdown",
   "metadata": {
    "papermill": {
     "duration": 0.025905,
     "end_time": "2021-05-26T20:28:36.946198",
     "exception": false,
     "start_time": "2021-05-26T20:28:36.920293",
     "status": "completed"
    },
    "tags": []
   },
   "source": [
    "### validation"
   ]
  },
  {
   "cell_type": "code",
   "execution_count": null,
   "metadata": {
    "execution": {
     "iopub.execute_input": "2021-05-26T20:28:37.003217Z",
     "iopub.status.busy": "2021-05-26T20:28:37.002725Z",
     "iopub.status.idle": "2021-05-26T20:28:37.006624Z",
     "shell.execute_reply": "2021-05-26T20:28:37.006194Z",
     "shell.execute_reply.started": "2021-05-26T20:20:40.118376Z"
    },
    "executionInfo": {
     "elapsed": 931536,
     "status": "ok",
     "timestamp": 1619295476782,
     "user": {
      "displayName": "Jeom Jin-Ho",
      "photoUrl": "",
      "userId": "00155613517919499503"
     },
     "user_tz": -120
    },
    "id": "outer-company",
    "papermill": {
     "duration": 0.032584,
     "end_time": "2021-05-26T20:28:37.006731",
     "exception": false,
     "start_time": "2021-05-26T20:28:36.974147",
     "status": "completed"
    },
    "tags": []
   },
   "outputs": [],
   "source": [
    "# preds = find_closest_match(args, test_loader, base_loader, model_array, n_matches=5)\n",
    "\n",
    "# test_df[\"hotel_id_pred\"] = [str(list(l)).strip(\"[]\").replace(\",\", \"\") for l in preds]\n",
    "\n",
    "# y = np.repeat([test_df[\"hotel_id\"]], repeats=5, axis=0).T\n",
    "# preds = np.array(preds)\n",
    "\n",
    "# acc_top_1 = (preds[:, 0] == test_df[\"hotel_id\"]).mean()\n",
    "# acc_top_5 = (preds == y).any(axis=1).mean()\n",
    "\n",
    "# print(f\"Accuracy: {acc_top_1:0.4f}, top 5 accuracy: {acc_top_5:0.4f}\")"
   ]
  },
  {
   "cell_type": "code",
   "execution_count": null,
   "metadata": {
    "papermill": {
     "duration": 0.024527,
     "end_time": "2021-05-26T20:28:37.056023",
     "exception": false,
     "start_time": "2021-05-26T20:28:37.031496",
     "status": "completed"
    },
    "tags": []
   },
   "outputs": [],
   "source": []
  }
 ],
 "metadata": {
  "kernelspec": {
   "display_name": "Python 3",
   "language": "python",
   "name": "python3"
  },
  "language_info": {
   "codemirror_mode": {
    "name": "ipython",
    "version": 3
   },
   "file_extension": ".py",
   "mimetype": "text/x-python",
   "name": "python",
   "nbconvert_exporter": "python",
   "pygments_lexer": "ipython3",
   "version": "3.8.5"
  },
  "papermill": {
   "default_parameters": {},
   "duration": 87.658415,
   "end_time": "2021-05-26T20:28:39.498861",
   "environment_variables": {},
   "exception": null,
   "input_path": "__notebook__.ipynb",
   "output_path": "__notebook__.ipynb",
   "parameters": {},
   "start_time": "2021-05-26T20:27:11.840446",
   "version": "2.3.3"
  }
 },
 "nbformat": 4,
 "nbformat_minor": 5
}
