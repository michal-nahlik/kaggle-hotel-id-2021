{
 "cells": [
  {
   "cell_type": "markdown",
   "metadata": {
    "id": "YpVlec0DJf-e"
   },
   "source": [
    "Notebook to download [Hotels-50K dataset](https://github.com/GWUvision/Hotels-50K) based on the [download_train.py](https://github.com/GWUvision/Hotels-50K/blob/master/download_train.py) script"
   ]
  },
  {
   "cell_type": "code",
   "execution_count": null,
   "metadata": {
    "id": "szg4XpdDS2GI"
   },
   "outputs": [],
   "source": [
    "from google.colab import drive\n",
    "drive.mount('/gdrive')\n",
    "%cd /gdrive"
   ]
  },
  {
   "cell_type": "code",
   "execution_count": null,
   "metadata": {
    "id": "IvLp1Jsld1zU"
   },
   "outputs": [],
   "source": [
    "import pandas as pd\n",
    "import PIL as pil_image\n",
    "import tqdm"
   ]
  },
  {
   "cell_type": "code",
   "execution_count": null,
   "metadata": {
    "id": "ey1TrOMhTG64"
   },
   "outputs": [],
   "source": [
    "PROJECT_FOLDER = \"/gdrive/MyDrive/Projects/Hotel-ID/\"\n",
    "DATA_FOLDER = \"/home/data/\""
   ]
  },
  {
   "cell_type": "code",
   "execution_count": null,
   "metadata": {
    "id": "oUuhK8wETAp9"
   },
   "outputs": [],
   "source": [
    "!mkdir {DATA_FOLDER}\n",
    "!mkdir {DATA_FOLDER}images/\n",
    "!tar -xvzf {PROJECT_FOLDER}data/dataset.tar.gz -C {DATA_FOLDER}"
   ]
  },
  {
   "cell_type": "code",
   "execution_count": null,
   "metadata": {
    "id": "1jjk2213SOEF"
   },
   "outputs": [],
   "source": [
    "from __future__ import print_function\n",
    "import csv, multiprocessing, cv2, os\n",
    "import numpy as np\n",
    "import urllib\n",
    "import urllib.request\n",
    "\n",
    "import ssl\n",
    "\n",
    "ctx = ssl.create_default_context()\n",
    "ctx.check_hostname = False\n",
    "ctx.verify_mode = ssl.CERT_NONE\n",
    "\n",
    "def url_to_image(url):\n",
    "    resp = urllib.request.urlopen(url, context=ctx)\n",
    "    image = np.asarray(bytearray(resp.read()), dtype=\"uint8\")\n",
    "    image = cv2.imdecode(image, cv2.IMREAD_UNCHANGED)\n",
    "    return image\n",
    "\n",
    "# chain,hotel,im_source,im_id,im_url\n",
    "def download_and_resize(imList):\n",
    "    for im in imList:\n",
    "        try:\n",
    "            saveDir = os.path.join(DATA_FOLDER, 'images/train/',im[0],im[1],im[2])\n",
    "            if not os.path.exists(saveDir):\n",
    "                os.makedirs(saveDir)\n",
    "\n",
    "            savePath = os.path.join(saveDir,str(im[3])+'.'+im[4].split('.')[-1])\n",
    "\n",
    "            if not os.path.isfile(savePath):\n",
    "                img = url_to_image(im[4])\n",
    "                if img.shape[1] > img.shape[0]:\n",
    "                    width = 512\n",
    "                    height = round((512 * img.shape[0]) / img.shape[1])\n",
    "                    img = cv2.resize(img,(width, height))\n",
    "                else:\n",
    "                    height = 512\n",
    "                    width = round((512 * img.shape[1]) / img.shape[0])\n",
    "                    img = cv2.resize(img,(width, height))\n",
    "                cv2.imwrite(savePath,img)\n",
    "                # print('Good: ' + savePath)\n",
    "            else:\n",
    "                print('Already saved: ' + savePath)\n",
    "        except Exception as e:\n",
    "            print('Bad: ' + savePath)"
   ]
  },
  {
   "cell_type": "code",
   "execution_count": null,
   "metadata": {
    "id": "CAGsg3xIYEJB"
   },
   "outputs": [],
   "source": [
    "hotel_f = open(f'{DATA_FOLDER}dataset/hotel_info.csv','r')\n",
    "hotel_reader = csv.reader(hotel_f)\n",
    "hotel_headers = next(hotel_reader,None)\n",
    "hotel_to_chain = {}\n",
    "for row in hotel_reader:\n",
    "    hotel_to_chain[row[0]] = row[2]\n",
    "\n",
    "train_df = pd.read_csv(f'{DATA_FOLDER}dataset/train_set.csv', header=None, dtype={0:str, 1:str})"
   ]
  },
  {
   "cell_type": "code",
   "execution_count": null,
   "metadata": {
    "id": "YUym-bB_aBaB"
   },
   "outputs": [],
   "source": [
    "subsample_df = train_df[train_df[3] == \"travel_website\"]\n",
    "hotel_data = subsample_df[1].value_counts()\n",
    "selected_hotels = hotel_data[(hotel_data > 10) & (hotel_data < 30)]\n",
    "\n",
    "print(f\"Hotels valid: {len(selected_hotels)}\")\n",
    "selected_hotels = selected_hotels.sample(5000)\n",
    "print(f\"Hotels selected: {len(selected_hotels)}\")\n",
    "subsample_df = subsample_df[subsample_df[1].isin(selected_hotels.index.values)]\n",
    "print(f\"Total images {len(subsample_df)}\")"
   ]
  },
  {
   "cell_type": "code",
   "execution_count": null,
   "metadata": {
    "id": "LvWMJOlFYHpL"
   },
   "outputs": [],
   "source": [
    "images = []\n",
    "for _, im in subsample_df.iterrows():\n",
    "    im_id = im[0]\n",
    "    im_url = im[2]\n",
    "    im_source = im[3]\n",
    "    hotel = im[1]\n",
    "    chain = hotel_to_chain[hotel]\n",
    "    images.append((chain,hotel,im_source,im_id,im_url))"
   ]
  },
  {
   "cell_type": "code",
   "execution_count": null,
   "metadata": {
    "id": "tTAt6Bx6cp5i"
   },
   "outputs": [],
   "source": [
    "%%time\n",
    "pool = multiprocessing.Pool()\n",
    "NUM_THREADS = multiprocessing.cpu_count()\n",
    "for cpu in range(NUM_THREADS):\n",
    "    pool.apply_async(download_and_resize,[images[cpu::NUM_THREADS]])\n",
    "\n",
    "pool.close()\n",
    "pool.join()"
   ]
  },
  {
   "cell_type": "code",
   "execution_count": null,
   "metadata": {
    "id": "T-Yo7i4WXxim"
   },
   "outputs": [],
   "source": [
    "!find {DATA_FOLDER}images -type f | wc -l\n",
    "!du -sh {DATA_FOLDER}images"
   ]
  },
  {
   "cell_type": "code",
   "execution_count": null,
   "metadata": {
    "id": "kdJpavtlhd2V"
   },
   "outputs": [],
   "source": [
    "!zip -r -qq {DATA_FOLDER}hotels-50K-sample.zip {DATA_FOLDER}images\n",
    "!cp {DATA_FOLDER}hotels-50K-sample.zip {PROJECT_FOLDER}data/"
   ]
  },
  {
   "cell_type": "code",
   "execution_count": null,
   "metadata": {
    "id": "2TAKV0FdT8z8"
   },
   "outputs": [],
   "source": [
    "# im = subsample_df.iloc[500]\n",
    "# im_id = im[0]\n",
    "# im_url = im[2]\n",
    "# im_source = im[3]\n",
    "# hotel = im[1]\n",
    "# chain = hotel_to_chain[hotel]\n",
    "\n",
    "# I = pil_image.Image.open(f\"/home/data/images/train/{chain}/{hotel}/{im_source}/{im_id}.jpg\")\n",
    "# print(im)\n",
    "# print(np.shape(I))\n",
    "# I"
   ]
  }
 ],
 "metadata": {
  "colab": {
   "authorship_tag": "ABX9TyNwyLSlmpDMTf+kT9C2lROC",
   "collapsed_sections": [],
   "name": "download-hotels-50K.ipynb",
   "provenance": []
  },
  "kernelspec": {
   "display_name": "Python 3",
   "language": "python",
   "name": "python3"
  },
  "language_info": {
   "codemirror_mode": {
    "name": "ipython",
    "version": 3
   },
   "file_extension": ".py",
   "mimetype": "text/x-python",
   "name": "python",
   "nbconvert_exporter": "python",
   "pygments_lexer": "ipython3",
   "version": "3.8.5"
  }
 },
 "nbformat": 4,
 "nbformat_minor": 1
}
