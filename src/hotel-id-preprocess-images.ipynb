{
 "cells": [
  {
   "cell_type": "code",
   "execution_count": null,
   "metadata": {
    "_cell_guid": "b1076dfc-b9ad-4769-8c92-a6c4dae69d19",
    "_uuid": "8f2839f25d086af736a60e9eeb907d3b93b6e0e5",
    "execution": {
     "iopub.execute_input": "2021-04-16T01:53:14.427325Z",
     "iopub.status.busy": "2021-04-16T01:53:14.425692Z",
     "iopub.status.idle": "2021-04-16T01:53:14.728321Z",
     "shell.execute_reply": "2021-04-16T01:53:14.726970Z"
    },
    "papermill": {
     "duration": 0.315305,
     "end_time": "2021-04-16T01:53:14.728555",
     "exception": false,
     "start_time": "2021-04-16T01:53:14.413250",
     "status": "completed"
    },
    "tags": []
   },
   "outputs": [],
   "source": [
    "import os\n",
    "import numpy as np\n",
    "import pandas as pd\n",
    "import tqdm\n",
    "import cv2\n",
    "import matplotlib.pyplot as plt\n",
    "\n",
    "from joblib import Parallel, delayed"
   ]
  },
  {
   "cell_type": "code",
   "execution_count": null,
   "metadata": {
    "execution": {
     "iopub.execute_input": "2021-04-16T01:53:14.747195Z",
     "iopub.status.busy": "2021-04-16T01:53:14.746314Z",
     "iopub.status.idle": "2021-04-16T01:53:14.749721Z",
     "shell.execute_reply": "2021-04-16T01:53:14.749010Z"
    },
    "papermill": {
     "duration": 0.014113,
     "end_time": "2021-04-16T01:53:14.749891",
     "exception": false,
     "start_time": "2021-04-16T01:53:14.735778",
     "status": "completed"
    },
    "tags": []
   },
   "outputs": [],
   "source": [
    "PAD = True\n",
    "WIDTH = 512\n",
    "HEIGHT = 512"
   ]
  },
  {
   "cell_type": "code",
   "execution_count": null,
   "metadata": {
    "execution": {
     "iopub.execute_input": "2021-04-16T01:53:14.768831Z",
     "iopub.status.busy": "2021-04-16T01:53:14.768028Z",
     "iopub.status.idle": "2021-04-16T01:53:14.982625Z",
     "shell.execute_reply": "2021-04-16T01:53:14.981577Z"
    },
    "papermill": {
     "duration": 0.225587,
     "end_time": "2021-04-16T01:53:14.982769",
     "exception": false,
     "start_time": "2021-04-16T01:53:14.757182",
     "status": "completed"
    },
    "tags": []
   },
   "outputs": [],
   "source": [
    "data_folder = \"/kaggle/input/hotel-id-2021-fgvc8/\"\n",
    "train_df = pd.read_csv(data_folder + \"train.csv\")"
   ]
  },
  {
   "cell_type": "code",
   "execution_count": null,
   "metadata": {
    "execution": {
     "iopub.execute_input": "2021-04-16T01:53:15.002345Z",
     "iopub.status.busy": "2021-04-16T01:53:15.000248Z",
     "iopub.status.idle": "2021-04-16T01:53:15.003000Z",
     "shell.execute_reply": "2021-04-16T01:53:15.003451Z"
    },
    "papermill": {
     "duration": 0.01604,
     "end_time": "2021-04-16T01:53:15.003615",
     "exception": false,
     "start_time": "2021-04-16T01:53:14.987575",
     "status": "completed"
    },
    "tags": []
   },
   "outputs": [],
   "source": [
    "def pad_image(img):\n",
    "    w, h, c = np.shape(img)\n",
    "    if w > h:\n",
    "        pad = int((w - h) / 2)\n",
    "        img = cv2.copyMakeBorder(img, 0, 0, pad, pad, cv2.BORDER_CONSTANT, value=0)\n",
    "    else:\n",
    "        pad = int((h - w) / 2)\n",
    "        img = cv2.copyMakeBorder(img, pad, pad, 0, 0, cv2.BORDER_CONSTANT, value=0)\n",
    "        \n",
    "    return img\n",
    "\n",
    "\n",
    "def open_and_preprocess_image(row_df):\n",
    "    img = cv2.imread(f\"{data_folder}train_images/{row_df.chain.astype(int)}/{row_df.image}\")\n",
    "    if PAD:\n",
    "        img = pad_image(img)    \n",
    "    \n",
    "    return cv2.resize(img, (WIDTH, HEIGHT))\n",
    "\n",
    "\n",
    "def save_image(row_df, img):\n",
    "    cv2.imwrite(f\"{row_df.image}\", img)\n",
    "    \n",
    "    \n",
    "def process_row(row_df):\n",
    "    img = open_and_preprocess_image(row_df)\n",
    "    save_image(row_df, img)"
   ]
  },
  {
   "cell_type": "code",
   "execution_count": null,
   "metadata": {
    "execution": {
     "iopub.execute_input": "2021-04-16T01:53:15.020006Z",
     "iopub.status.busy": "2021-04-16T01:53:15.019305Z",
     "iopub.status.idle": "2021-04-16T02:35:09.625876Z",
     "shell.execute_reply": "2021-04-16T02:35:09.626892Z"
    },
    "papermill": {
     "duration": 2514.619147,
     "end_time": "2021-04-16T02:35:09.627391",
     "exception": false,
     "start_time": "2021-04-16T01:53:15.008244",
     "status": "completed"
    },
    "tags": []
   },
   "outputs": [],
   "source": [
    "%%time\n",
    "dfs_proc = Parallel(n_jobs=4, prefer='threads')(delayed(process_row)(train_df.loc[i]) for i in range(0, len(train_df)))"
   ]
  },
  {
   "cell_type": "code",
   "execution_count": null,
   "metadata": {
    "execution": {
     "iopub.execute_input": "2021-04-16T02:35:09.645755Z",
     "iopub.status.busy": "2021-04-16T02:35:09.645192Z",
     "iopub.status.idle": "2021-04-16T02:41:50.796502Z",
     "shell.execute_reply": "2021-04-16T02:41:50.795760Z"
    },
    "papermill": {
     "duration": 401.161771,
     "end_time": "2021-04-16T02:41:50.796691",
     "exception": false,
     "start_time": "2021-04-16T02:35:09.634920",
     "status": "completed"
    },
    "tags": []
   },
   "outputs": [],
   "source": [
    "!cd /kaggle/working/ & zip -jqr train.zip .\n",
    "!find . -name \"*.jpg\" -delete"
   ]
  }
 ],
 "metadata": {
  "kernelspec": {
   "display_name": "Python 3",
   "language": "python",
   "name": "python3"
  },
  "language_info": {
   "codemirror_mode": {
    "name": "ipython",
    "version": 3
   },
   "file_extension": ".py",
   "mimetype": "text/x-python",
   "name": "python",
   "nbconvert_exporter": "python",
   "pygments_lexer": "ipython3",
   "version": "3.8.5"
  },
  "papermill": {
   "default_parameters": {},
   "duration": 2923.010303,
   "end_time": "2021-04-16T02:41:51.845268",
   "environment_variables": {},
   "exception": null,
   "input_path": "__notebook__.ipynb",
   "output_path": "__notebook__.ipynb",
   "parameters": {},
   "start_time": "2021-04-16T01:53:08.834965",
   "version": "2.3.2"
  }
 },
 "nbformat": 4,
 "nbformat_minor": 5
}
